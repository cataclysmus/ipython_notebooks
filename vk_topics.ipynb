{
 "cells": [
  {
   "cell_type": "code",
   "execution_count": 1,
   "metadata": {
    "collapsed": false
   },
   "outputs": [],
   "source": [
    "import pandas as pd\n",
    "import numpy as np\n",
    "import urllib.request as ur\n",
    "import urllib.parse   as up\n",
    "import json\n",
    "\n",
    "#Получим информацию о имени группы, статусе и описании с помощью API\n",
    "#Кажется надо брать еще несколько постов со стены через wall.get \n",
    "#https://vk.com/dev/wall.get?params[owner_id]=-26270763&params[count]=10&params[filter]=owner\n",
    "def get_description(vk_id):\n",
    "    params = up.urlencode({'group_ids': vk_id, 'fields': 'status,description'})\n",
    "    url=\"https://api.vk.com/method/groups.getById?%s\" % params\n",
    "    response = ur.urlopen(url)\n",
    "    group_description = response.read().decode('utf-8')\n",
    "    group_description = json.loads(group_description)['response'][0]\n",
    "    res={'id': vk_id, 'name': '', 'status': '', 'description': '' }\n",
    "    \n",
    "    #If banned\n",
    "    if ('deactivated' in group_description):\n",
    "        return res\n",
    "    \n",
    "    #If very closed group or group is an event\n",
    "    if (group_description['is_closed'] > 1 or group_description['type'] == \"event\"):\n",
    "        return res\n",
    "    \n",
    "    res['name'] = group_description['name']\n",
    "    res['status'] = group_description['status']\n",
    "    res['description'] = group_description['description'].replace(\"<br>\", \" \")\n",
    "    return res\n",
    "\n",
    "#group_data = pd.DataFrame({\"id\": np.array([10,20,30,40,50])}, columns=['id', 'name', 'status', 'description'] )\n",
    "#print (group_data)"
   ]
  },
  {
   "cell_type": "code",
   "execution_count": 2,
   "metadata": {
    "collapsed": false
   },
   "outputs": [],
   "source": [
    "groip_id = np.loadtxt(\"spb_community_stats.csv\", dtype=np.int64)"
   ]
  },
  {
   "cell_type": "code",
   "execution_count": 45,
   "metadata": {
    "collapsed": true
   },
   "outputs": [],
   "source": [
    "first_time=False\n",
    "n_samples = 20000\n",
    "\n",
    "#np.random.seed(122)\n",
    "#groip_id_small = np.random.choice(groip_id, size=1000)"
   ]
  },
  {
   "cell_type": "code",
   "execution_count": 46,
   "metadata": {
    "collapsed": false
   },
   "outputs": [],
   "source": [
    "if (first_time):\n",
    "    group_data = pd.DataFrame({\"id\": groip_id}, columns=['id', 'name', 'status', 'description'])\n",
    "    for i in group_data[\"id\"].iteritems():\n",
    "        group_data.iloc[i[0]] = pd.DataFrame.from_dict(get_description(i[1]), orient='index').T.loc[0]\n",
    "    group_data.to_pickle('group_data.pkl')\n",
    "else:\n",
    "    group_data = pd.read_pickle('group_data.pkl')\n",
    "    group_data = group_data.loc[:n_samples]"
   ]
  },
  {
   "cell_type": "code",
   "execution_count": 47,
   "metadata": {
    "collapsed": false
   },
   "outputs": [],
   "source": [
    "#from nltk.tokenize import RegexpTokenizer\n",
    "import re\n",
    "\n",
    "#group_data_tmp = group_data.copy()\n",
    "\n",
    "#Simplify work with list objects\n",
    "def apply_to_data(self, func):\n",
    "    columns = ['name', 'status', 'description']\n",
    "    for c in columns:\n",
    "        self[c]=self[c].apply(func)\n",
    "pd.DataFrame.apply_to_data =  apply_to_data  \n",
    "\n",
    "#Tokenize text\n",
    "pattern = r'[A-Za-z\\u0400-\\u0451]+' #include latin and cyrillic letters (UNICODE)\n",
    "regexcomp = re.compile(pattern, flags = re.UNICODE | re.MULTILINE | re.DOTALL)\n",
    "tokenizer_re = lambda s: regexcomp.findall(s)\n",
    "toc_vec = np.vectorize(tokenizer_re, otypes=[np.chararray])\n",
    "#group_data_tmp.apply_to_data( toc_vec )\n",
    "\n",
    "#All words to lowercase\n",
    "lower_list = lambda x: np.char.asarray([item.lower() for item in x])\n",
    "#group_data_tmp.apply_to_data( lower_list )\n",
    "\n",
    "\n",
    "#Remove short words (L<=2) and stop words\n",
    "from nltk.corpus import stopwords\n",
    "#Создадим свой список, будем добавлять сюда новые слова, которые будут выявляться в процессе выделения тематики\n",
    "#Cсылки слишком много мусорят, надо что-то делать\n",
    "custum_stop = ['ваш', 'наш', 'этот', 'тот', 'который', 'группа', 'клуб', 'свой', 'каждый', 'самый', 'твой',  \\\n",
    "               'www', 'http', 'https', 'html', 'org', 'ru', 'com', 'php', 'amp','club', 'group', 'vkontakte',\\\n",
    "               'страница', 'сайт', 'вконтакте', 'закрытый', 'официальный', 'сообщество', 'паблик', 'стена',  \\\n",
    "               'публиковать', 'подписаться',  'комментарий', 'подписчик', 'правило', \\\n",
    "               'official', 'public', 'instagram', 'twitter', 'facebook', 'youtube', 'mail', 'gmail', 'livejournal']\n",
    "rm_short = lambda x: np.char.asarray([ item for item in x if (len(item) > 2 and \\\n",
    "                                           not item in stopwords.words('english') and \\\n",
    "                                           not item in stopwords.words('russian') and \\\n",
    "                                           not item in custum_stop)])\n",
    "#group_data_tmp.apply_to_data( rm_short) \n",
    "\n",
    "\n",
    "\n",
    "import pymorphy2\n",
    "morph = pymorphy2.MorphAnalyzer()\n",
    "def get_normal_form(word):\n",
    "    global morph\n",
    "    value_forms = ['NOUN', 'ADJF', 'VERB', 'INFN', 'LATN'] #существительные, прилагательные, глаголы и латинские\n",
    "    try: \n",
    "        p = morph.parse(word)[0] #We will take only first normal form\n",
    "        if (str(p.tag)[0:4] in value_forms):\n",
    "            return p.normal_form\n",
    "        else:\n",
    "            return ''\n",
    "    except:\n",
    "        pass\n",
    "        return ''\n",
    "\n",
    "norm_all_words = lambda x: np.char.asarray([ get_normal_form(item) for item in x ])\n",
    "\n",
    "#group_data_tmp.apply_to_data( norm_all_words )\n",
    "#group_data_tmp.apply_to_data( rm_short ) #cleam one more time"
   ]
  },
  {
   "cell_type": "code",
   "execution_count": 48,
   "metadata": {
    "collapsed": true
   },
   "outputs": [],
   "source": [
    "def russian_vk(data):\n",
    "    data = toc_vec(data)\n",
    "    data = lower_list(data)\n",
    "    data = rm_short(data)\n",
    "    data = norm_all_words(data)\n",
    "    data = rm_short(data)\n",
    "    return data"
   ]
  },
  {
   "cell_type": "code",
   "execution_count": 49,
   "metadata": {
    "collapsed": true
   },
   "outputs": [],
   "source": [
    "def get_group_doc(pd_object):\n",
    "    #Предположим что название группы несет в себе большую информацию о тематике,\n",
    "    #но из-за того что в названии всего пару слов, то нужно увеличить вес названия и с статуса в общем тексте \n",
    "    repeat_name   = 3\n",
    "    repeat_status = 1\n",
    "    return pd_object['name'].apply(lambda x:   (x + \" \") * repeat_name)   + \" \" + \\\n",
    "           pd_object['status'].apply(lambda x: (x + \" \") * repeat_status) + \" \" + \\\n",
    "           pd_object['description']"
   ]
  },
  {
   "cell_type": "code",
   "execution_count": 50,
   "metadata": {
    "collapsed": false
   },
   "outputs": [],
   "source": [
    "from sklearn.feature_extraction.text import TfidfVectorizer\n",
    "from sklearn.decomposition import NMF\n",
    "\n",
    "n_features = 2500\n",
    "tfidf_vectorizer = TfidfVectorizer(max_df=0.95, min_df=2, max_features=n_features, analyzer='word', tokenizer = russian_vk)\n",
    "\n",
    "tfidf = tfidf_vectorizer.fit_transform( get_group_doc(group_data) )\n",
    "tfidf_feature_names = tfidf_vectorizer.get_feature_names()"
   ]
  },
  {
   "cell_type": "code",
   "execution_count": 90,
   "metadata": {
    "collapsed": false
   },
   "outputs": [
    {
     "name": "stdout",
     "output_type": "stream",
     "text": [
      "Fitting the Bayesian Gaussian Mixture model with tf-idf features, n_samples=20000, n_features=2500 and n_topics=30...\n",
      "Fit is converged:  False \n",
      "Done\n"
     ]
    },
    {
     "name": "stderr",
     "output_type": "stream",
     "text": [
      "/home/cataclysm/venvpy3/lib64/python3.4/site-packages/sklearn/mixture/base.py:237: ConvergenceWarning: Initialization 1 did not converged. Try different init parameters, or increase max_iter, tol or check for degenerate data.\n",
      "  % (init + 1), ConvergenceWarning)\n"
     ]
    }
   ],
   "source": [
    "# Fit the Gaussian Mixture with  model\n",
    "from sklearn.mixture import BayesianGaussianMixture #require sklearn v 0.18\n",
    "\n",
    "n_topics = 30\n",
    "print(\"Fitting the Bayesian Gaussian Mixture model with tf-idf features, \" \\\n",
    "      \"n_samples=%d, n_features=%d and n_topics=%d...\" \\\n",
    "      % (n_samples, n_features,n_topics))\n",
    "\n",
    "gaus = BayesianGaussianMixture(weight_concentration_prior_type='dirichlet_distribution',\n",
    "        n_components=n_topics, init_params='kmeans', n_init = 1,\n",
    "        max_iter=100, covariance_type = 'diag', mean_precision_prior=0.95, random_state=5165)\n",
    "\n",
    "gaus.fit(tfidf.toarray())\n",
    "print (\"Fit is converged: \", gaus.converged_, \"\\nDone\")"
   ]
  },
  {
   "cell_type": "code",
   "execution_count": 91,
   "metadata": {
    "collapsed": false
   },
   "outputs": [
    {
     "data": {
      "image/png": "[encoded data removed]",
      "text/plain": [
       "<matplotlib.figure.Figure at 0x7f6e57a0eb38>"
      ]
     },
     "metadata": {},
     "output_type": "display_data"
    },
    {
     "name": "stdout",
     "output_type": "stream",
     "text": [
      "\n",
      "Topics in Bayesian Gaussian Mixture model:\n",
      "Topic #0:\n",
      "бокс игра mma бой russia world news уличный top best\n",
      "Topic #1:\n",
      "танец школа сезон танцевать dance topic family танцевальный уличный studio\n",
      "Topic #2:\n",
      "женский журнал любить красота девушка любовь секрет счастие мысль жизнь\n",
      "Topic #3:\n",
      "квартира снять аренда сдать петербург хотеть агент санкт посредник комната\n",
      "Topic #4:\n",
      "петербург хороший весь жизнь санкт одежда мир год человек россия\n",
      "Topic #5:\n",
      "мама ребёнок родитель семья читать голос вязание конкурс детка найти\n",
      "Topic #6:\n",
      "платье одежда женский часы модный вечерний мода магазин обувь туфля\n",
      "Topic #7:\n",
      "петербург хороший весь жизнь санкт одежда мир год человек россия\n",
      "Topic #8:\n",
      "спорт красота фитнес спортивный прогноз девушка футбол здоровье жизнь питание\n",
      "Topic #9:\n",
      "давать родной пить hip hop свидание верить человек посмотреть окружающий\n",
      "Topic #10:\n",
      "петербург хороший весь жизнь санкт одежда мир год человек россия\n",
      "Topic #11:\n",
      "порно суд секс районный федерация основание территория решение данный российский\n",
      "Topic #12:\n",
      "рецепт вкусный кулинария кулинарный хороший готовить дом совет диета идея\n",
      "Topic #13:\n",
      "петербург год санкт весь человек мир хороший жизнь работа россия\n",
      "Topic #14:\n",
      "юмор прикол мужской анекдот сарказм смех позитив пожаловать хороший академия\n",
      "Topic #15:\n",
      "путешествие мир туризм кадр россия удивительный планета записка путешественник планет\n",
      "Topic #16:\n",
      "фильм хороший кино сериал мультфильм tumblr новинка комикс мультик мир\n",
      "Topic #17:\n",
      "фильм кино сериал новинка хороший смотреть ужас порно видео english\n",
      "Topic #18:\n",
      "макияж причёска волос маникюр наращивание свадебный урок перманентный стрижка beauty\n",
      "Topic #19:\n",
      "ремонт дизайн apple квартира дом идея работа интерьер машина iphone\n",
      "Topic #20:\n",
      "музыка music новинка душа хороший клубный новый рэп музыкальный сердце\n",
      "Topic #21:\n",
      "бизнес успех мотивация идея саморазвитие жизнь журнал психология дневник business\n",
      "Topic #22:\n",
      "фотограф свадебный свадьба love фотография москва фотосессия петербург photo санкт\n",
      "Topic #23:\n",
      "факт интересный весь подписываться фото dota событие день история петербург\n",
      "Topic #24:\n",
      "егэ язык подготовка ответ русский живой теория поступление материал июнь\n",
      "Topic #25:\n",
      "свадебный платье салон inspiration свадьба аксессуар wedding заглянуть запись каталог\n",
      "Topic #26:\n",
      "смысл жизнь мысль цитата статус видеть слово хороший чувство живить\n",
      "Topic #27:\n",
      "православный святой вера православие русь хранить миссия духовный алексей знакомство\n",
      "Topic #28:\n",
      "одежда магазин доставка детский заказ обувь товар россия наличие интернет\n",
      "Topic #29:\n",
      "спбгу студент университет факультет выпускник преподаватель студенческий экскурсия экономический театр\n",
      "\n"
     ]
    }
   ],
   "source": [
    "def create_topic_vector(model_components, feature_names, n_topics, n_top_words):\n",
    "    #topics = np.chararray((n_topics), itemsize=50)#.encode('utf-8')\n",
    "    topics=[]\n",
    "    for topic_idx, topic in enumerate(model_components):\n",
    "        tmp=u\"\"\n",
    "        for i in topic.argsort()[:-n_top_words - 1:-1]:\n",
    "            tmp += (feature_names[i] + u\" \")\n",
    "        topics.append(tmp)\n",
    "    return topics\n",
    "\n",
    "def plot_topic_dist(data, topics):\n",
    "    import matplotlib.pyplot as plt\n",
    "    from matplotlib import rc\n",
    "    rc('font',**{'family': 'Liberation Serif', 'weight': 'normal'})\n",
    "\n",
    "    plt.bar(np.arange(len(topics)), data)\n",
    "    plt.xticks(np.arange(len(topics))+0.5, topics, rotation='vertical')\n",
    "    plt.ylim((0.0, 600))\n",
    "    plt.show()\n",
    "    \n",
    "    return\n",
    "\n",
    "\n",
    "\n",
    "topic_names = create_topic_vector(gaus.means_, tfidf_feature_names, n_topics, 3)\n",
    "\n",
    "n_top_words = 10\n",
    "\n",
    "\n",
    "plot_topic_dist(gaus.mean_precision_, topic_names)\n",
    "\n",
    "\n",
    "def print_top_words(model, feature_names, n_top_words):\n",
    "    for topic_idx, topic in enumerate(model.means_):\n",
    "        print(\"Topic #%d:\" % topic_idx)\n",
    "        print(\" \".join([feature_names[i]\n",
    "                        for i in topic.argsort()[:-n_top_words - 1:-1]]))\n",
    "    print()\n",
    "    \n",
    "print(\"\\nTopics in Bayesian Gaussian Mixture model:\")\n",
    "print_top_words(gaus, tfidf_feature_names, n_top_words)"
   ]
  },
  {
   "cell_type": "code",
   "execution_count": 110,
   "metadata": {
    "collapsed": false
   },
   "outputs": [
    {
     "name": "stdout",
     "output_type": "stream",
     "text": [
      "Extracting tf features for LDA...\n"
     ]
    }
   ],
   "source": [
    "from sklearn.feature_extraction.text import CountVectorizer\n",
    "from sklearn.decomposition import LatentDirichletAllocation\n",
    "\n",
    "n_features = 2500\n",
    "# Use tf (raw term count) features for LDA.\n",
    "print(\"Extracting tf features for LDA...\")\n",
    "tf_vectorizer = CountVectorizer(max_df=0.90, min_df=2, max_features=n_features, analyzer='word', tokenizer = russian_vk)\n",
    "tf = tf_vectorizer.fit_transform( get_group_doc(group_data) )\n"
   ]
  },
  {
   "cell_type": "code",
   "execution_count": 85,
   "metadata": {
    "collapsed": false
   },
   "outputs": [
    {
     "name": "stdout",
     "output_type": "stream",
     "text": [
      "Fitting the NMF model with tf-idf features, n_samples=20000 and n_features=2500...\n",
      "\n",
      "Topics in NMF model:\n"
     ]
    }
   ],
   "source": [
    "#tmp = np.asarray(group_data_tmp['description'].loc[1]).view(np.chararray)\n",
    "#print (group_data_tmp['description'].loc[1], itemsize=20) )\n",
    "#print (group_data_tmp['description'].loc[3])\n",
    "#tfidf = tfidf_vectorizer.fit_transform(group_data['description'].loc[3])\n",
    "\n",
    "\n",
    "# Fit the NMF model\n",
    "print(\"Fitting the NMF model with tf-idf features, \" \\\n",
    "      \"n_samples=%d and n_features=%d...\" \\\n",
    "      % (n_samples, n_features))\n",
    "\n",
    "n_topics = 30\n",
    "\n",
    "\n",
    "nmf = NMF(n_components=n_topics, random_state=1,\n",
    "          alpha=.1, l1_ratio=.5).fit(tfidf)\n",
    "\n",
    "\n",
    "def print_top_words(model, feature_names, n_top_words):\n",
    "    for topic_idx, topic in enumerate(model.components_):\n",
    "        print(\"Topic #%d:\" % topic_idx)\n",
    "        print(\" \".join([feature_names[i]\n",
    "                        for i in topic.argsort()[:-n_top_words - 1:-1]]))\n",
    "    print()\n",
    "\n",
    "print(\"\\nTopics in NMF model:\")\n",
    "tfidf_feature_names = tfidf_vectorizer.get_feature_names()"
   ]
  },
  {
   "cell_type": "code",
   "execution_count": 86,
   "metadata": {
    "collapsed": false,
    "scrolled": false
   },
   "outputs": [
    {
     "name": "stdout",
     "output_type": "stream",
     "text": [
      "Topic #0:\n",
      "одежда магазин детский заказ доставка интернет обувь товар модный наличие\n",
      "Topic #1:\n",
      "год человек весь друг работа новость вопрос хотеть мочь день\n",
      "Topic #2:\n",
      "петербург санкт питер город событие афиша spb работа район москва\n",
      "Topic #3:\n",
      "фильм кино новинка смотреть кинотеатр мультфильм ужас новое посмотреть качество\n",
      "Topic #4:\n",
      "порно секс видео знакомство русский домашний эротика суд фото девушка\n",
      "Topic #5:\n",
      "фотограф свадебный свадьба фотография фотосессия съёмка фото фотосъёмка семейный москва\n",
      "Topic #6:\n",
      "музыка music новинка клубный музыкальный рок новый машина скачать клип\n",
      "Topic #7:\n",
      "рецепт вкусный кулинария кулинарный блюдо готовить кухня простой диета еда\n",
      "Topic #8:\n",
      "женский секрет журнал женщина одежда счастие совет психология хитрость полезный\n",
      "Topic #9:\n",
      "игра приложение игровой игрок играть game games престол компьютерный app\n",
      "Topic #10:\n",
      "хороший настроение день видео цитата фото статус сеть best девочка\n",
      "Topic #11:\n",
      "жизнь хитрость человек образ философия психология здоровый life смысл история\n",
      "Topic #12:\n",
      "ребёнок мама детский родитель семья малыш беременность развитие игрушка счастливый\n",
      "Topic #13:\n",
      "юмор чёрный анекдот смех шутка сарказм смешной безумный странный тонкий\n",
      "Topic #14:\n",
      "интересный факт событие история новость питер полезный необычный книга познавательный\n",
      "Topic #15:\n",
      "журнал мужской men мужчина мужик познавательный умный интернет настоящий стиль\n",
      "Topic #16:\n",
      "волос наращивание ресница ноготь причёска выпрямление макияж кератиновый маникюр работа\n",
      "Topic #17:\n",
      "мир путешествие весь удивительный женщина страна пожаловать технология позитив world\n",
      "Topic #18:\n",
      "бизнес идея успех мотивация саморазвитие финансы business успешный предприниматель тренинг\n",
      "Topic #19:\n",
      "платье свадебный вечерний салон примерка пошив наличие нарядный костюм запись\n",
      "Topic #20:\n",
      "россия доставка страна russia русский москва компания российский снг год\n",
      "Topic #21:\n",
      "любовь знакомство статус love цитата отношение секс счастие чувство сердце\n",
      "Topic #22:\n",
      "тур путёвка путешествие финляндия отдых офис туроператор travel турфирма туризм\n",
      "Topic #23:\n",
      "красота мода девушка здоровье стиль красивый fashion секрет макияж салон\n",
      "Topic #24:\n",
      "спорт фитнес прогноз спортивный бодибилдинг питание fitness диета тренировка здоровый\n",
      "Topic #25:\n",
      "сериал серия сезон смотреть премьера мультфильм год фильм телеканал герой\n",
      "Topic #26:\n",
      "прикол анекдот чёткий смешной картинка смс видео позитив смех фото\n",
      "Topic #27:\n",
      "квартира аренда снять сдать недвижимость комната ремонт посредник агент объявление\n",
      "Topic #28:\n",
      "любить питер хотеть животное человек читать любитель живить подписываться любимый\n",
      "Topic #29:\n",
      "мысль цитата великое статус стих умный мудрый душа человек мужской\n",
      "\n"
     ]
    }
   ],
   "source": [
    "n_top_words = 10\n",
    "print_top_words(nmf, tfidf_feature_names, n_top_words)"
   ]
  },
  {
   "cell_type": "code",
   "execution_count": null,
   "metadata": {
    "collapsed": true
   },
   "outputs": [],
   "source": []
  },
  {
   "cell_type": "markdown",
   "metadata": {},
   "source": [
    "Найденные темы:\n",
    "\n",
    "n_topics = 30 : одежда, фильмы, События в Питере, Свадебный фотограф, Порно, Игры, Гороскоп, Кулинария, Музыка, Новости, Женский паблик, сериалы, 12?, 13?, Знакомства, Недвижимость, Юмор, 17 - Цитатник?, 18?, Дети и Семья, Фото девушек, Путешествия, Бизнес, 23 еще одна музыка?, Интеренет шоппинг, Россия, Мужкой паблик, 27 еще один юмор?, Красота (макияж и ресницы), Спорт\n",
    "Из 30 тем 24 четко выражены.\n",
    "\n",
    "n_topics = 25 : одежда, фильмы, Свадебный фотограф, Порно, музыка, россия, Игры, События в Питере, Гороскоп, Кулинария, Музыка, Новости, Женский паблик, сериалы, 12?, 13?, Знакомства, Недвижимость, Юмор, 17 - Цитатник?, 18?, Дети и Семья, Фото девушек, Путешествия, Бизнес, 23 еще одна музыка? (eng), Интеренет шоппинг, Россия, Мужкой паблик, 27 еще один юмор?, Красота (макияж и ресницы), Спорт\n",
    "\n",
    "\n"
   ]
  },
  {
   "cell_type": "code",
   "execution_count": 473,
   "metadata": {
    "collapsed": false,
    "scrolled": false
   },
   "outputs": [
    {
     "name": "stdout",
     "output_type": "stream",
     "text": [
      "Fitting LDA models with tf features, n_samples=20000 and n_features=2500...\n",
      "25 -3619493.59594 10677.9139027\n",
      "\n",
      "Topics in LDA model:\n",
      "Topic #0:\n",
      "волос школа наращивание макияж студия мастер обучение причёска работа курс\n",
      "Topic #1:\n",
      "фильм кино сериал хороший сезон татуировка серия тат смотреть новинка\n",
      "Topic #2:\n",
      "человек жизнь год мир история весь стать время делать жить\n",
      "Topic #3:\n",
      "психология душа отношение философия саморазвитие бог владимир стих эзотерика православный\n",
      "Topic #4:\n",
      "язык английский english французский немецкий слово итальянский воздушный шар перевод\n",
      "Topic #5:\n",
      "искусство граффити арт книга культура издание художник art животное год\n",
      "Topic #6:\n",
      "мир уличный мода новость стиль спорт фитнес событие fashion love\n",
      "Topic #7:\n",
      "рок александр гитара сергей rock понять вокал голос дмитрий андрей\n",
      "Topic #8:\n",
      "world russia сумка кожа натуральный продукт брат браслет камень сервер\n",
      "Topic #9:\n",
      "год являться материал право цель проект российский международный лицо авторский\n",
      "Topic #10:\n",
      "россия танец страна dance online дневник танцевальный наука украина pole\n",
      "Topic #11:\n",
      "свадебный игра фотограф свадьба фотосессия мужской съёмка фотостудия авто модель\n",
      "Topic #12:\n",
      "русский юмор любить прикол студент картинка смешной хороший весёлый пошлый\n",
      "Topic #13:\n",
      "дизайн компания ремонт интерьер дом цвета дизайнер оружие квартира товар\n",
      "Topic #14:\n",
      "петербург санкт питер город мероприятие фестиваль праздник место театр шоу\n",
      "Topic #15:\n",
      "ребёнок детский мама идея подарок семья здоровье родитель рукоделие рука\n",
      "Topic #16:\n",
      "правило вопрос друг тема реклама участник квартира topic новость информация\n",
      "Topic #17:\n",
      "музыка music музыкальный любитель год альбом новый official хороший house\n",
      "Topic #18:\n",
      "тур финляндия отдых путешествие октябрь поездка европа совместный закупка день\n",
      "Topic #19:\n",
      "одежда магазин заказ петербург санкт доставка цена товар платье весь\n",
      "Topic #20:\n",
      "видео порно фото секс знакомство фотография хороший комикс домашний эротика\n",
      "Topic #21:\n",
      "спортивный питание футбол радио академия диета спорт здоровый тренировка правильный\n",
      "Topic #22:\n",
      "рецепт бизнес дом любовь торт вкусный кухня хороший вкус успех\n",
      "Topic #23:\n",
      "журнал мебель гороскоп мысль умный прогноз кухня шкаф кот палитра\n",
      "Topic #24:\n",
      "женский девушка интересный женщина факт красивый подписаться мужчина секрет красота\n",
      "\n"
     ]
    }
   ],
   "source": [
    "print(\"Fitting LDA models with tf features, \" \\\n",
    "      \"n_samples=%d and n_features=%d...\" \\\n",
    "      % (n_samples, n_features))\n",
    "\n",
    "n_topics = 25\n",
    "lda = LatentDirichletAllocation(n_topics=n_topics, max_iter=10, n_jobs=-1, learning_decay = 0.9, \\\n",
    "                     batch_size = 200,  learning_method='online', learning_offset=50., random_state=0)\n",
    "\n",
    "words_in_topics = lda.fit(tf)\n",
    "\n",
    "new_score = lda.score(tf)\n",
    "print (n_topics, new_score, new_score - old_score )\n",
    "print(\"\\nTopics in LDA model:\")\n",
    "tf_feature_names = tf_vectorizer.get_feature_names()\n",
    "print_top_words(lda, tf_feature_names, n_top_words)\n",
    "old_score = new_score\n",
    "\n",
    "#n_features=1000 is not enought"
   ]
  },
  {
   "cell_type": "code",
   "execution_count": 337,
   "metadata": {
    "collapsed": false
   },
   "outputs": [
    {
     "name": "stdout",
     "output_type": "stream",
     "text": [
      "[ 0.00137931  0.00137931  0.00137931  0.00137931  0.00137931  0.00137931\n",
      "  0.00137931  0.00137931  0.00137931  0.00137931  0.00137931  0.00137931\n",
      "  0.00137931  0.00137931  0.23836829  0.40533236  0.00137931  0.00137931\n",
      "  0.00137931  0.29248585  0.00137931  0.00137931  0.03484798  0.00137931\n",
      "  0.00137931]\n",
      "[  0.04         0.04         0.04         0.04         0.04         0.04\n",
      "   0.04         0.04         0.04         0.04         0.04         0.04\n",
      "   0.04         0.04         6.81357854  12.54309235   0.04         0.04\n",
      "   0.04         7.76036223   0.04         0.04         1.04296688   0.04\n",
      "   0.04      ]\n"
     ]
    }
   ],
   "source": [
    "#print (lda.components_.shape)\n",
    "#print (topics_in_group.shape)\n",
    "#print (lda.components_[0])\n",
    "\n",
    "\n",
    "\n",
    "#print (pd.DataFrame(group_data.loc[0]).T)\n",
    "\n",
    "\n",
    "#For predifined word_topic_dist\n",
    "def get_topic_dist(words, components, n_features):\n",
    "    \n",
    "    from sklearn.decomposition._online_lda import mean_change, _dirichlet_expectation_1d\n",
    "    EPS = np.finfo(np.float).eps\n",
    "    list_of_topic_words=np.zeros((len(words)), dtype=int)\n",
    "    list_words_counts  =np.zeros(n_features, dtype=int)\n",
    "\n",
    "    k=0\n",
    "    for i,w in enumerate(words):\n",
    "        for j,x in enumerate(tf_feature_names):\n",
    "            if (w == x):\n",
    "                if (list_words_counts[j] == 0):\n",
    "                    list_of_topic_words[k] = j\n",
    "                    k+=1\n",
    "                list_words_counts[j]+=1\n",
    "                break\n",
    "\n",
    "    list_of_topic_words = np.trim_zeros(list_of_topic_words)        \n",
    "    doc_topic_d = np.ones(n_topics)\n",
    "    exp_doc_topic_d = np.zeros(n_topics)\n",
    "    exp_topic_word_d = components[:,list_of_topic_words].copy() # lda.components_[:,list_of_topic_words].copy()\n",
    "    tf_vector = list_words_counts[list_of_topic_words]\n",
    "\n",
    "\n",
    "    # Iterate between `doc_topic_d` and `norm_phi` until convergence\n",
    "    for i in range(0, 20):\n",
    "        last_d = doc_topic_d\n",
    "\n",
    "        # The optimal phi_{dwk} is proportional to\n",
    "        # exp(E[log(theta_{dk})]) * exp(E[log(beta_{dw})]).\n",
    "        norm_phi = np.dot(exp_doc_topic_d, exp_topic_word_d) + EPS\n",
    "\n",
    "        doc_topic_d = (exp_doc_topic_d *\n",
    "        np.dot(tf_vector / norm_phi, exp_topic_word_d.T))\n",
    "        # Note: adds doc_topic_prior to doc_topic_d, in-place.\n",
    "        _dirichlet_expectation_1d(doc_topic_d, 1./n_topics, exp_doc_topic_d)\n",
    "\n",
    "        if mean_change(last_d, doc_topic_d) < 0.001:\n",
    "                    break\n",
    "    \n",
    "    return doc_topic_d/doc_topic_d.sum()\n",
    "\n",
    "\n",
    "topics = get_topic_dist(words, lda.components_, n_features)\n",
    "\n",
    "#sum of all group vectors\n",
    "user_pref = get_topic_dist(words, lda.components_, n_features)\n",
    "\n",
    "print (topics)\n",
    "#print (exp_doc_topic_d)\n",
    "print (topics_in_group[0])\n",
    "\n"
   ]
  },
  {
   "cell_type": "code",
   "execution_count": 320,
   "metadata": {
    "collapsed": false
   },
   "outputs": [
    {
     "name": "stdout",
     "output_type": "stream",
     "text": [
      "[  0.04         0.04         0.04         0.04         0.04         0.04\n",
      "   0.04         0.04         0.04         0.04         0.04         0.04\n",
      "   0.04         0.04         6.81357854  12.54309235   0.04         0.04\n",
      "   0.04         7.76036223   0.04         0.04         1.04296688   0.04\n",
      "   0.04      ]\n",
      "«Blog Fiesta» — для людей, интересующихся событиями Петербурга и всем, что связано с городом. Мы ищем необычные, интересные мероприятия, делимся фотографиями и рассказываем о неформальных достопримечательностях города.\n"
     ]
    }
   ],
   "source": [
    "topics_in_group = lda.transform(tf)\n",
    "print (topics_in_group[0])\n",
    "print (group_data['description'].loc[0])\n"
   ]
  },
  {
   "cell_type": "code",
   "execution_count": 193,
   "metadata": {
    "collapsed": false
   },
   "outputs": [],
   "source": [
    "def get_groups_from_user(user_id):\n",
    "    params = up.urlencode({'user_id': user_id})\n",
    "    url=\"https://api.vk.com/method/users.getSubscriptions?%s\" % params\n",
    "    response = ur.urlopen(url)\n",
    "    group_ids = response.read().decode('utf-8')\n",
    "    group_ids = json.loads(group_ids)['response']\n",
    "    res={'id': user_id, 'groups': ''}\n",
    "    #print (group_ids[])\n",
    "   \n",
    "    try:\n",
    "        if ( group_ids['groups']['count'] > 0):\n",
    "            return group_ids['groups']['items']\n",
    "    except:\n",
    "        pass\n",
    "    return res\n",
    "    \n",
    "#get_groups_from_user(1012451)"
   ]
  },
  {
   "cell_type": "code",
   "execution_count": 395,
   "metadata": {
    "collapsed": false
   },
   "outputs": [],
   "source": [
    "def describe_user_pref(user_id, model, n_features, n_topics):\n",
    "    group_list = get_groups_from_user(user_id)\n",
    "    topics = np.zeros(n_topics)\n",
    "    for group_id in group_list:\n",
    "        group_info = pd.DataFrame({\"id\": groip_id}, columns=['id', 'name', 'status', 'description'])\n",
    "        group_info = pd.DataFrame.from_dict(get_description(group_id), orient='index').T\n",
    "        words = get_group_doc(group_info).loc[0]\n",
    "        #print (group_info['name'])\n",
    "        words = russian_vk(words)\n",
    "        topics += get_topic_dist(words, model.components_, n_features)\n",
    "    return topics/len(group_list)\n",
    "    \n",
    "    \n",
    "user_pref = describe_user_pref(1012451, lda, n_features, n_topics)\n",
    "\n",
    "\n",
    "    "
   ]
  },
  {
   "cell_type": "code",
   "execution_count": 443,
   "metadata": {
    "collapsed": false
   },
   "outputs": [
    {
     "name": "stdout",
     "output_type": "stream",
     "text": [
      "['одежда магазин заказ ', 'фильм кино сериал ', 'жизнь человек любовь ', 'искусство подарок психология ', 'порно русский видео ', 'гороскоп татуировка тат ', 'идея книга мастер ', 'рок душа прикол ', 'музыка студия танец ', 'год секс сезон ', 'время сила мысль ', 'фотограф игра свадьба ', 'ребёнок детский рецепт ', 'волос женский школа ', 'город курс мероприятие ', 'мир хороший интересный ', 'правило реклама вопрос ', 'любитель техника цвета ', 'друг хотеть тур ', 'петербург санкт работа ', 'спорт спортивный торт ', 'история бизнес факт ', 'стиль мода мужской ', 'дом девушка полезный ', 'мама современный подписаться ']\n",
      "[ 0.00840419  0.07166993  0.04497846  0.00465534  0.04444245  0.00389215\n",
      "  0.07400731  0.00286007  0.00618841  0.00836659  0.07043141  0.03293858\n",
      "  0.06068435  0.18859089  0.00649193  0.05387918  0.08849942  0.01733969\n",
      "  0.04000727  0.04879708  0.00286007  0.06659995  0.00506569  0.03009448\n",
      "  0.0182551 ]\n",
      "bass\n",
      "[20  7  5  3 22  8 14  9  0 17 24 23 11 18  4  2 19 15 12 21 10  1  6 16 13]\n"
     ]
    }
   ],
   "source": [
    "def create_topic_vector(model, feature_names, n_topics, n_top_words):\n",
    "    #topics = np.chararray((n_topics), itemsize=50)#.encode('utf-8')\n",
    "    topics=[]\n",
    "    for topic_idx, topic in enumerate(model.components_):\n",
    "        tmp=u\"\"\n",
    "        for i in topic.argsort()[:-n_top_words - 1:-1]:\n",
    "            #print (feature_names[i])\n",
    "            tmp += (feature_names[i] + u\" \")\n",
    "        topics.append(tmp)\n",
    "    return topics\n",
    "\n",
    "topic_names = create_topic_vector(lda, tf_feature_names, n_topics, 3)\n",
    "\n",
    "\n",
    "print (topic_names)\n",
    "    \n",
    "    \n",
    "print (user_pref)\n",
    "print (tf_feature_names[16])\n",
    "print (user_pref.argsort())\n",
    "#for topic_idx, val in enumerate(user_pref):\n",
    "#    print(\"Topic #%d:\" % topic_idx)\n",
    "#    print(\" \".join([tf_feature_names[i]\n",
    "#                        for i in user_pref.argsort()[:-3 - 1:-1]]))\n",
    "#    print()"
   ]
  },
  {
   "cell_type": "code",
   "execution_count": 454,
   "metadata": {
    "collapsed": false
   },
   "outputs": [
    {
     "data": {
      "image/png": "[encoded data removed]",
      "text/plain": [
       "<matplotlib.figure.Figure at 0x7f53dfc262b0>"
      ]
     },
     "metadata": {},
     "output_type": "display_data"
    }
   ],
   "source": [
    "#%matplotlib inline\n",
    "\n",
    "import matplotlib.pyplot as plt\n",
    "from matplotlib import rc\n",
    "rc('font',**{'family': 'Liberation Serif', 'weight': 'normal'})\n",
    "\n",
    "plt.bar(np.arange(n_topics), user_pref)\n",
    "plt.xticks(np.arange(n_topics)+0.5, topic_names, rotation='vertical')\n",
    "plt.show()"
   ]
  },
  {
   "cell_type": "code",
   "execution_count": null,
   "metadata": {
    "collapsed": true
   },
   "outputs": [],
   "source": []
  },
  {
   "cell_type": "code",
   "execution_count": null,
   "metadata": {
    "collapsed": true
   },
   "outputs": [],
   "source": []
  }
 ],
 "metadata": {
  "kernelspec": {
   "display_name": "Python 3",
   "language": "python",
   "name": "python3"
  },
  "language_info": {
   "codemirror_mode": {
    "name": "ipython",
    "version": 3
   },
   "file_extension": ".py",
   "mimetype": "text/x-python",
   "name": "python",
   "nbconvert_exporter": "python",
   "pygments_lexer": "ipython3",
   "version": "3.4.3"
  }
 },
 "nbformat": 4,
 "nbformat_minor": 1
}
